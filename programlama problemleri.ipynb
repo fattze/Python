{
 "cells": [
  {
   "cell_type": "code",
   "execution_count": 2,
   "id": "9017a452",
   "metadata": {},
   "outputs": [
    {
     "name": "stdout",
     "output_type": "stream",
     "text": [
      "öğrencinin notunu gir:67\n",
      "3.35\n"
     ]
    }
   ],
   "source": [
    "onot=int(input(\"öğrencinin notunu gir:\"))\n",
    "yenınot=onot*5/100\n",
    "print(yenınot)"
   ]
  },
  {
   "cell_type": "code",
   "execution_count": 3,
   "id": "5ec2d8cb",
   "metadata": {},
   "outputs": [
    {
     "name": "stdout",
     "output_type": "stream",
     "text": [
      "fiyat gir:34\n",
      "kdv gir:8\n",
      "306\n"
     ]
    }
   ],
   "source": [
    "fıyat=int(input(\"fiyat gir:\"))\n",
    "kdv=int(input(\"kdv gir:\"))\n",
    "toplamfıyat=fıyat+(fıyat*kdv)\n",
    "print(toplamfıyat)"
   ]
  },
  {
   "cell_type": "code",
   "execution_count": 1,
   "id": "bd2cc31e",
   "metadata": {},
   "outputs": [
    {
     "name": "stdout",
     "output_type": "stream",
     "text": [
      "kısa kenar gir:9\n",
      "uzun kenar gir:8\n",
      "alan: 72\n",
      "çevre: 144\n"
     ]
    }
   ],
   "source": [
    "k=int(input(\"kısa kenar gir:\"))\n",
    "u=int(input(\"uzun kenar gir:\"))\n",
    "alan=k*u\n",
    "çevre=2*k*u\n",
    "print(\"alan:\",alan)\n",
    "print(\"çevre:\",çevre)"
   ]
  },
  {
   "cell_type": "code",
   "execution_count": 2,
   "id": "20d135df",
   "metadata": {},
   "outputs": [
    {
     "name": "stdout",
     "output_type": "stream",
     "text": [
      "3 basamaklı sayı gir:896\n",
      "698\n"
     ]
    }
   ],
   "source": [
    "#girilen 3 basamaklı bir sayıyı tersine çevirme\n",
    "\n",
    "sayi=int(input(\"3 basamaklı sayı gir:\"))\n",
    "birlerBasamagi=sayi%10 \n",
    "onlarbasamagi=sayi%100-birlerBasamagi\n",
    "yuzlerBasamagi=int(sayi/100)\n",
    "sayi=(birlerBasamagi*100)+onlarbasamagi+yuzlerBasamagi\n",
    "print(sayi)"
   ]
  },
  {
   "cell_type": "code",
   "execution_count": 2,
   "id": "ef01f780",
   "metadata": {},
   "outputs": [
    {
     "name": "stdout",
     "output_type": "stream",
     "text": [
      "yarıçapı gir:7\n",
      "alan: 153.86\n"
     ]
    }
   ],
   "source": [
    "r=int(input(\"yarıçapı gir:\"))\n",
    "pi=3.14\n",
    "alan=r**2*pi\n",
    "print(\"alan:\",alan)"
   ]
  },
  {
   "cell_type": "code",
   "execution_count": 3,
   "id": "48c55856",
   "metadata": {},
   "outputs": [
    {
     "name": "stdout",
     "output_type": "stream",
     "text": [
      "k değerini gir:8\n",
      "n değerini gir:5\n",
      "120.0\n"
     ]
    }
   ],
   "source": [
    "#Girilen n ve k değerlerine göre k + 2k + 3k + ...+nk yı hesaplayan program?\n",
    "\n",
    "k=int(input(\"k değerini gir:\"))\n",
    "n=int(input(\"n değerini gir:\"))\n",
    "sonuç=k*(n*(n+1))/2\n",
    "print(sonuç)"
   ]
  }
 ],
 "metadata": {
  "kernelspec": {
   "display_name": "Python 3 (ipykernel)",
   "language": "python",
   "name": "python3"
  },
  "language_info": {
   "codemirror_mode": {
    "name": "ipython",
    "version": 3
   },
   "file_extension": ".py",
   "mimetype": "text/x-python",
   "name": "python",
   "nbconvert_exporter": "python",
   "pygments_lexer": "ipython3",
   "version": "3.11.5"
  }
 },
 "nbformat": 4,
 "nbformat_minor": 5
}
