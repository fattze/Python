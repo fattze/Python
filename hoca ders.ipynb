{
 "cells": [
  {
   "cell_type": "code",
   "execution_count": 1,
   "id": "f0216426",
   "metadata": {},
   "outputs": [
    {
     "name": "stdout",
     "output_type": "stream",
     "text": [
      "False\n"
     ]
    }
   ],
   "source": [
    "x=5\n",
    "y=3\n",
    "c=x is y\n",
    "print(c)"
   ]
  },
  {
   "cell_type": "code",
   "execution_count": 3,
   "id": "eeba933c",
   "metadata": {},
   "outputs": [
    {
     "name": "stdout",
     "output_type": "stream",
     "text": [
      "True\n"
     ]
    }
   ],
   "source": [
    "x='4'\n",
    "y='4'\n",
    "c=x in y\n",
    "print(c)"
   ]
  },
  {
   "cell_type": "code",
   "execution_count": 4,
   "id": "9ba06753",
   "metadata": {},
   "outputs": [
    {
     "name": "stdout",
     "output_type": "stream",
     "text": [
      "True\n"
     ]
    }
   ],
   "source": [
    "x='4'\n",
    "y=('5','alk','4')\n",
    "c= x in y\n",
    "print(c)"
   ]
  },
  {
   "cell_type": "code",
   "execution_count": 22,
   "id": "ef808950",
   "metadata": {},
   "outputs": [
    {
     "name": "stdout",
     "output_type": "stream",
     "text": [
      "10 en büyük\n"
     ]
    }
   ],
   "source": [
    "x=5; y=4; z=10;\n",
    "if ((x > y)):  \n",
    "    if ((x > z)): \n",
    "        print(x,\"en büyük\")\n",
    "    else: \n",
    "        print(z,\"en büyük\")\n",
    "else:\n",
    "    if ((y > z)): \n",
    "        print(y,\"en büyük\")\n",
    "    else: \n",
    "        print(z,\"en büyük\")\n"
   ]
  },
  {
   "cell_type": "code",
   "execution_count": 21,
   "id": "f13881da",
   "metadata": {},
   "outputs": [
    {
     "name": "stdout",
     "output_type": "stream",
     "text": [
      "x=96\n",
      "96 sayısı 6 nın katı\n"
     ]
    }
   ],
   "source": [
    "x = int(input(\"x=\"))\n",
    "if (x%2 == 0 ):\n",
    "    if (x%3 == 0):\n",
    "        print(x,\"sayısı 6 nın katı\")\n",
    "    else:\n",
    "        print(x,\"sayısı 6 nın katı değil\")\n",
    "else:\n",
    "    print(x,\"sayısı 6 nın katı değil\")\n"
   ]
  },
  {
   "cell_type": "code",
   "execution_count": 7,
   "id": "b3593099",
   "metadata": {},
   "outputs": [
    {
     "name": "stdout",
     "output_type": "stream",
     "text": [
      "Vize:96\n",
      "Final:84\n",
      "GEÇTİ\n"
     ]
    }
   ],
   "source": [
    "Vize ve Final notu girilen öğrencinin geçip geçmediğini hesaplayan program (vizenin %40,finalin %60’ı hesaplanır.\n",
    "#Final en az 55, ortalama en az 50 olunca geçer. Diğer durumlarda kalır)\n",
    "\n",
    "vize= int(input(\"Vize:\"))\n",
    "final= int(input(\"Final:\"))\n",
    "if (final>55):\n",
    "    ort = (vize * 0.4) + (final * 0.6)\n",
    "    if (ort>50):\n",
    "        print(\"GEÇTİ\")\n",
    "    else:\n",
    "        print(\"KALDI\")\n",
    "else:\n",
    "    print(\"KALDI\")\n"
   ]
  },
  {
   "cell_type": "code",
   "execution_count": 16,
   "id": "49dd4b3b",
   "metadata": {},
   "outputs": [
    {
     "name": "stdout",
     "output_type": "stream",
     "text": [
      "A=9\n",
      "B=6\n",
      "C=2\n",
      "dışında\n"
     ]
    }
   ],
   "source": [
    "#A(x1,y2), B(x2,y2), C(x3,y3) üçgene ait üç nokta olduğuna göre P(xp,yp) üçgenin içinde mi dışında mı bulan program?\n",
    "\n",
    "\n",
    "\n",
    "A = float(input(\"A=\"))\n",
    "B = float(input(\"B=\"))\n",
    "C = float(input(\"C=\"))\n",
    "KONTROL = 0\n",
    "if (A>0):\n",
    "    if(A<1):\n",
    "        if(B>0):\n",
    "            if(B<1):\n",
    "                if(C>0):\n",
    "                    if(C<1):\n",
    "                        KONTROL=1\n",
    "if (KONTROL==1): \n",
    "    print(\"içinde\")\n",
    "else: \n",
    "    print(\"dışında\")\n"
   ]
  },
  {
   "cell_type": "code",
   "execution_count": 1,
   "id": "71fb42c1",
   "metadata": {},
   "outputs": [
    {
     "name": "stdout",
     "output_type": "stream",
     "text": [
      "a=8\n",
      "b=4\n",
      "c=2\n",
      "dx=7\n",
      "dy=3\n",
      "r=1\n",
      "KESME YOK\n"
     ]
    }
   ],
   "source": [
    "#Çizgi daireyi kesiyor mu, yoksa teğet mi sonucunu bulan program? \n",
    "#Çizgi: ax+by+c=0 \n",
    "#Daire: (dx,dy,r) \n",
    "\n",
    "import math\n",
    "a = int(input(\"a=\"))\n",
    "b = int(input(\"b=\"))\n",
    "c = int(input(\"c=\"))\n",
    "dx = int(input(\"dx=\"))\n",
    "dy = int(input(\"dy=\"))\n",
    "r = int(input(\"r=\"))\n",
    "d =abs(a*dx + b*dy + c) / math.sqrt(a**2 + b**2)\n",
    "if (d>r):  \n",
    "    print(\"KESME YOK\")\n",
    "elif(d==r): \n",
    "    print(\"TEĞET\")\n",
    "else: \n",
    "    print(\"KESME VAR\")\n"
   ]
  }
 ],
 "metadata": {
  "kernelspec": {
   "display_name": "Python 3 (ipykernel)",
   "language": "python",
   "name": "python3"
  },
  "language_info": {
   "codemirror_mode": {
    "name": "ipython",
    "version": 3
   },
   "file_extension": ".py",
   "mimetype": "text/x-python",
   "name": "python",
   "nbconvert_exporter": "python",
   "pygments_lexer": "ipython3",
   "version": "3.11.5"
  }
 },
 "nbformat": 4,
 "nbformat_minor": 5
}
